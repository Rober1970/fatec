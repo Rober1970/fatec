{
 "cells": [
  {
   "cell_type": "markdown",
   "id": "315b5fc4",
   "metadata": {},
   "source": [
    "#### Coisas importantes"
   ]
  },
  {
   "cell_type": "markdown",
   "id": "49cd083c",
   "metadata": {},
   "source": [
    "* Respeite as indentações (espaços)\n",
    "Não faça Isso :))\n",
    "eu bola gosto bater mim  portão\n",
    "#O codigo fonte deve ser rigorozamente seguido\n",
    "e.g\n",
    "\n",
    "* 2 não adicione espaços nas funções e nos objetos\n",
    "\n",
    "* Correto:\n",
    "print(1)\n",
    "\n",
    "* errado:\n",
    "print (1)\n",
    "print( 1 )\n",
    "\n",
    "* 3 Contudo, adicione espaços entre variáveis e valores, e entre valores e valores\n",
    "\n",
    "Correto:\n",
    "\n",
    "variável = 4 \n",
    "3 + 3\n",
    "\n",
    "Errado:\n",
    "\n",
    "variavel=4\n",
    "3+3\n",
    "\n",
    "DRY - Don't repeat Yourself\n",
    "\n"
   ]
  },
  {
   "cell_type": "markdown",
   "id": "0a3d0343",
   "metadata": {},
   "source": [
    "## DRY - Don't repeat Yourself (evite repetições)"
   ]
  },
  {
   "cell_type": "code",
   "execution_count": 2,
   "id": "5b3b1898",
   "metadata": {},
   "outputs": [
    {
     "name": "stdout",
     "output_type": "stream",
     "text": [
      "Olá estranho, seja bem vindo\n",
      "Selecione as opções abaixo:\n",
      "[1] - Café\n",
      "[2] - Cappucino\n",
      "[3] - Machiato\n",
      "[4] - Expresso\n",
      "[5] - Chá\n",
      ">>>2\n"
     ]
    }
   ],
   "source": [
    "print(\"Olá estranho, seja bem vindo\")\n",
    "print(\"Selecione as opções abaixo:\")\n",
    "print(\"[1] - Café\")\n",
    "print(\"[2] - Cappucino\")\n",
    "print(\"[3] - Machiato\")\n",
    "print(\"[4] - Expresso\")\n",
    "print(\"[5] - Chá\")\n",
    "opcao = input(\">>>\")"
   ]
  },
  {
   "cell_type": "code",
   "execution_count": 3,
   "id": "b187a4c4",
   "metadata": {},
   "outputs": [
    {
     "name": "stdout",
     "output_type": "stream",
     "text": [
      "2\n"
     ]
    }
   ],
   "source": [
    "print(opcao)"
   ]
  },
  {
   "cell_type": "markdown",
   "id": "6e1caf3d",
   "metadata": {},
   "source": [
    "## Laço de Repetição"
   ]
  },
  {
   "cell_type": "code",
   "execution_count": 7,
   "id": "3abd5df1",
   "metadata": {},
   "outputs": [
    {
     "name": "stdout",
     "output_type": "stream",
     "text": [
      "=^^=\n",
      "=^^=\n",
      "=^^=\n",
      "=^^=\n"
     ]
    }
   ],
   "source": [
    "# Jeito cavalo\n",
    "print(\"=^^=\")\n",
    "print(\"=^^=\")\n",
    "print(\"=^^=\")\n",
    "print(\"=^^=\")"
   ]
  },
  {
   "cell_type": "markdown",
   "id": "61e83826",
   "metadata": {},
   "source": [
    "## Estrutura de repetição For\n",
    "**For**  *variável*  **in** *ITERAVEL*"
   ]
  },
  {
   "cell_type": "markdown",
   "id": "1d40eb85",
   "metadata": {},
   "source": [
    "O **for** traduzido para o português fica:\n",
    "\"**Para cada elemento**\"  (For) **dentro do ITERAVEL**  salve temporariamente o valor contidor no *ITERAVEL* \n",
    "salver temporariamente o valor contido no *ITERAVEL* na variável 'variavel'\"\n",
    "\n",
    "\"Execute o código abaixo o mesmo tanto de vezes que o tamanho do ITERAVEL\""
   ]
  },
  {
   "cell_type": "code",
   "execution_count": 8,
   "id": "9b62e24d",
   "metadata": {},
   "outputs": [
    {
     "ename": "SyntaxError",
     "evalue": "invalid syntax (Temp/ipykernel_12416/2545568448.py, line 7)",
     "output_type": "error",
     "traceback": [
      "\u001b[1;36m  File \u001b[1;32m\"C:\\Users\\FATECS~1\\AppData\\Local\\Temp/ipykernel_12416/2545568448.py\"\u001b[1;36m, line \u001b[1;32m7\u001b[0m\n\u001b[1;33m    = {\"chave\": \"Valor\",\"dog\": \"cachorro\"}\u001b[0m\n\u001b[1;37m    ^\u001b[0m\n\u001b[1;31mSyntaxError\u001b[0m\u001b[1;31m:\u001b[0m invalid syntax\n"
     ]
    }
   ],
   "source": [
    "# ITERAVEIS\n",
    "\n",
    "listas = [1, \"texto\", []] # listas aceitam quaisquer objetos que o python suporta\n",
    "textos = \"O rato roeu a roupa do rei de Roma\"\n",
    "tuplas = (1, \"texto\", []) # tuplas aceitam quaisquer objetos que o python suporta)\n",
    "dicionario_de_uma_linha\n",
    "= {\"chave\": \"Valor\",\"dog\": \"cachorro\"}\n",
    "\n",
    "dicionario_de_varias_linhas = {\n",
    "\"chave\": \"Valor\"\n",
    "\"dog\": \"cachorro\"\n",
    "}\n",
    "\n",
    "alcance _escopo = range(10)"
   ]
  },
  {
   "cell_type": "markdown",
   "id": "c375d7e2",
   "metadata": {},
   "source": [
    "## Trabalhando os dados\n",
    "\n",
    "* listas\n",
    "* textos(String)\n",
    "* Tuplas\n",
    "* dicionário\n",
    "* range"
   ]
  },
  {
   "cell_type": "code",
   "execution_count": 14,
   "id": "53daa5e0",
   "metadata": {},
   "outputs": [
    {
     "name": "stdout",
     "output_type": "stream",
     "text": [
      "=^^=\n",
      "=^^=\n",
      "=^^=\n",
      "=^^=\n",
      "=^^=\n",
      "=^^=\n",
      "=^^=\n",
      "=^^=\n",
      "=^^=\n",
      "=^^=\n"
     ]
    }
   ],
   "source": [
    "for VARIAVEL in range(10):\n",
    "    print(\"=^^=\")"
   ]
  },
  {
   "cell_type": "code",
   "execution_count": 16,
   "id": "33e193f2",
   "metadata": {},
   "outputs": [
    {
     "name": "stdout",
     "output_type": "stream",
     "text": [
      "azeitona\n",
      "chocolat\n",
      "papel higiênico\n",
      "pasta de dente\n",
      "salgadinho\n",
      "carne moida\n"
     ]
    }
   ],
   "source": [
    "# trabalhando com listas \n",
    "\n",
    "tamanho_minimo = 8\n",
    "\n",
    "compras = [\"arroz\", \"picanha\", \"azeitona\", \"chocolat\", \"feijão\", \"batata\",\"sushi\", \"papel higiênico\", \"pasta de dente\",\"vinho\", \"salgadinho\", \"carne moida\", \"leite\"]\n",
    "for item in compras: \n",
    "    if len(item) < tamanho_minimo:\n",
    "        pass\n",
    "    else:\n",
    "        print(item)"
   ]
  },
  {
   "cell_type": "code",
   "execution_count": 32,
   "id": "39eeb854",
   "metadata": {},
   "outputs": [
    {
     "name": "stdout",
     "output_type": "stream",
     "text": [
      "0 par\n",
      "1 impar\n",
      "2 par\n",
      "3 impar\n",
      "4 par\n",
      "5 impar\n",
      "6 par\n",
      "7 impar\n",
      "8 par\n",
      "9 impar\n",
      "10 par\n",
      "11 impar\n",
      "12 par\n",
      "13 impar\n",
      "14 par\n",
      "15 impar\n",
      "16 par\n",
      "17 impar\n",
      "18 par\n",
      "19 impar\n",
      "20 par\n",
      "21 impar\n",
      "22 par\n",
      "23 impar\n",
      "24 par\n",
      "25 impar\n",
      "26 par\n",
      "27 impar\n",
      "28 par\n",
      "29 impar\n",
      "30 par\n",
      "31 impar\n",
      "32 par\n",
      "33 impar\n",
      "34 par\n",
      "35 impar\n",
      "36 par\n",
      "37 impar\n",
      "38 par\n",
      "39 impar\n",
      "40 par\n",
      "41 impar\n",
      "42 par\n",
      "43 impar\n",
      "44 par\n",
      "45 impar\n",
      "46 par\n",
      "47 impar\n",
      "48 par\n",
      "49 impar\n"
     ]
    }
   ],
   "source": [
    "# Desafio 1: par, impar\n",
    "    \n",
    "for numero in range(0, 50):\n",
    "    if numero % 2 == 0:\n",
    "        print(numero, \"par\")    \n",
    "    else:\n",
    "        print(numero, \"impar\")"
   ]
  },
  {
   "cell_type": "code",
   "execution_count": 61,
   "id": "ea0cc9c8",
   "metadata": {},
   "outputs": [
    {
     "data": {
      "text/plain": [
       "[0, 1, 2, 3, 4, 5, 6, 7, 8, 9]"
      ]
     },
     "execution_count": 61,
     "metadata": {},
     "output_type": "execute_result"
    }
   ],
   "source": [
    "list(range(10))"
   ]
  },
  {
   "cell_type": "raw",
   "id": "9bdf4fb1",
   "metadata": {},
   "source": [
    "# range (50) \"onde 50 é um argumento"
   ]
  },
  {
   "cell_type": "code",
   "execution_count": 68,
   "id": "da64430c",
   "metadata": {},
   "outputs": [
    {
     "ename": "SyntaxError",
     "evalue": "invalid syntax (Temp/ipykernel_12416/2072893281.py, line 1)",
     "output_type": "error",
     "traceback": [
      "\u001b[1;36m  File \u001b[1;32m\"C:\\Users\\FATECS~1\\AppData\\Local\\Temp/ipykernel_12416/2072893281.py\"\u001b[1;36m, line \u001b[1;32m1\u001b[0m\n\u001b[1;33m    for fruta in[\"toranja,\"bergamota\",\"figo\"]:\u001b[0m\n\u001b[1;37m                           ^\u001b[0m\n\u001b[1;31mSyntaxError\u001b[0m\u001b[1;31m:\u001b[0m invalid syntax\n"
     ]
    }
   ],
   "source": [
    "for fruta in[\"toranja,\"bergamota\",\"figo\"]:\n",
    "    print(fruta)"
   ]
  },
  {
   "cell_type": "code",
   "execution_count": 70,
   "id": "88abe624",
   "metadata": {},
   "outputs": [],
   "source": [
    "fruta, valor = \"toranja\", 0"
   ]
  },
  {
   "cell_type": "code",
   "execution_count": 75,
   "id": "a6a770fc",
   "metadata": {},
   "outputs": [
    {
     "data": {
      "text/plain": [
       "[(0, 'v'), (1, 'i'), (2, 'c'), (3, 't'), (4, 'o'), (5, 'r')]"
      ]
     },
     "execution_count": 75,
     "metadata": {},
     "output_type": "execute_result"
    }
   ],
   "source": [
    "list(enumerate(\"victor\"))"
   ]
  },
  {
   "cell_type": "raw",
   "id": "57b2b8ed",
   "metadata": {},
   "source": [
    "## Criando um menu:"
   ]
  },
  {
   "cell_type": "code",
   "execution_count": 91,
   "id": "dc67e522",
   "metadata": {},
   "outputs": [
    {
     "name": "stdout",
     "output_type": "stream",
     "text": [
      "*[1]* - cha\n",
      "*[2]* - chocolate quente\n",
      "*[3]* - espresso\n",
      "*[4]* - capuccino\n",
      "*[5]* - pingado\n"
     ]
    }
   ],
   "source": [
    "# Menu de um restaurante\n",
    "\n",
    "opcoes = [\"cha\", \"chocolate quente\", \"espresso\", \"capuccino\", \"pingado\"]\n",
    "\n",
    "for posicao, opcao in enumerate(opcoes):\n",
    "    print(f\"*[{posicao + 1}]* - {opcao}\")\n",
    "    \n",
    "pedido = input(\"Selecione uma das opções acima: \")"
   ]
  },
  {
   "cell_type": "code",
   "execution_count": null,
   "id": "55311567",
   "metadata": {},
   "outputs": [],
   "source": []
  }
 ],
 "metadata": {
  "kernelspec": {
   "display_name": "Python 3 (ipykernel)",
   "language": "python",
   "name": "python3"
  },
  "language_info": {
   "codemirror_mode": {
    "name": "ipython",
    "version": 3
   },
   "file_extension": ".py",
   "mimetype": "text/x-python",
   "name": "python",
   "nbconvert_exporter": "python",
   "pygments_lexer": "ipython3",
   "version": "3.9.7"
  }
 },
 "nbformat": 4,
 "nbformat_minor": 5
}
